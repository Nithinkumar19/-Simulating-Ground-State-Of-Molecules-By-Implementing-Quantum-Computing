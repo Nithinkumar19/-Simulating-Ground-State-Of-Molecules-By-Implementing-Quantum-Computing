{
 "cells": [
  {
   "cell_type": "code",
   "execution_count": 1,
   "id": "fe75d4ba-43c0-4d8d-a54d-ddf04cb10bcb",
   "metadata": {},
   "outputs": [
    {
     "name": "stdout",
     "output_type": "stream",
     "text": [
      "Requirement already satisfied: qiskit-nature in /opt/conda/lib/python3.10/site-packages (0.7.0)\n",
      "Requirement already satisfied: numpy>=1.17 in /opt/conda/lib/python3.10/site-packages (from qiskit-nature) (1.23.5)\n",
      "Requirement already satisfied: setuptools>=40.1.0 in /opt/conda/lib/python3.10/site-packages (from qiskit-nature) (67.7.2)\n",
      "Requirement already satisfied: psutil>=5 in /opt/conda/lib/python3.10/site-packages (from qiskit-nature) (5.9.4)\n",
      "Requirement already satisfied: h5py in /opt/conda/lib/python3.10/site-packages (from qiskit-nature) (3.7.0)\n",
      "Requirement already satisfied: qiskit-algorithms>=0.2.1 in /opt/conda/lib/python3.10/site-packages (from qiskit-nature) (0.2.1)\n",
      "Requirement already satisfied: rustworkx>=0.12 in /opt/conda/lib/python3.10/site-packages (from qiskit-nature) (0.13.0)\n",
      "Requirement already satisfied: scipy>=1.4 in /opt/conda/lib/python3.10/site-packages (from qiskit-nature) (1.9.3)\n",
      "Requirement already satisfied: qiskit>=0.44 in /opt/conda/lib/python3.10/site-packages (from qiskit-nature) (0.44.1)\n",
      "Requirement already satisfied: typing-extensions in /opt/conda/lib/python3.10/site-packages (from qiskit-nature) (4.5.0)\n",
      "Requirement already satisfied: qiskit-terra==0.25.1 in /opt/conda/lib/python3.10/site-packages (from qiskit>=0.44->qiskit-nature) (0.25.1)\n",
      "Requirement already satisfied: ply>=3.10 in /opt/conda/lib/python3.10/site-packages (from qiskit-terra==0.25.1->qiskit>=0.44->qiskit-nature) (3.11)\n",
      "Requirement already satisfied: symengine<0.10,>=0.9 in /opt/conda/lib/python3.10/site-packages (from qiskit-terra==0.25.1->qiskit>=0.44->qiskit-nature) (0.9.2)\n",
      "Requirement already satisfied: python-dateutil>=2.8.0 in /opt/conda/lib/python3.10/site-packages (from qiskit-terra==0.25.1->qiskit>=0.44->qiskit-nature) (2.8.2)\n",
      "Requirement already satisfied: dill>=0.3 in /opt/conda/lib/python3.10/site-packages (from qiskit-terra==0.25.1->qiskit>=0.44->qiskit-nature) (0.3.7)\n",
      "Requirement already satisfied: sympy>=1.3 in /opt/conda/lib/python3.10/site-packages (from qiskit-terra==0.25.1->qiskit>=0.44->qiskit-nature) (1.11.1)\n",
      "Requirement already satisfied: stevedore>=3.0.0 in /opt/conda/lib/python3.10/site-packages (from qiskit-terra==0.25.1->qiskit>=0.44->qiskit-nature) (4.1.1)\n",
      "Requirement already satisfied: six>=1.5 in /opt/conda/lib/python3.10/site-packages (from python-dateutil>=2.8.0->qiskit-terra==0.25.1->qiskit>=0.44->qiskit-nature) (1.16.0)\n",
      "Requirement already satisfied: pbr!=2.1.0,>=2.0.0 in /opt/conda/lib/python3.10/site-packages (from stevedore>=3.0.0->qiskit-terra==0.25.1->qiskit>=0.44->qiskit-nature) (5.11.1)\n",
      "Requirement already satisfied: mpmath>=0.19 in /opt/conda/lib/python3.10/site-packages (from sympy>=1.3->qiskit-terra==0.25.1->qiskit>=0.44->qiskit-nature) (1.3.0)\n",
      "\n",
      "\u001b[1m[\u001b[0m\u001b[34;49mnotice\u001b[0m\u001b[1;39;49m]\u001b[0m\u001b[39;49m A new release of pip available: \u001b[0m\u001b[31;49m23.1.1\u001b[0m\u001b[39;49m -> \u001b[0m\u001b[32;49m23.3.1\u001b[0m\n",
      "\u001b[1m[\u001b[0m\u001b[34;49mnotice\u001b[0m\u001b[1;39;49m]\u001b[0m\u001b[39;49m To update, run: \u001b[0m\u001b[32;49mpip install --upgrade pip\u001b[0m\n"
     ]
    }
   ],
   "source": [
    "!pip install qiskit-nature --upgrade"
   ]
  },
  {
   "cell_type": "code",
   "execution_count": 2,
   "id": "f90592ca-a4c9-49cf-b8ca-1add39b225c8",
   "metadata": {
    "tags": []
   },
   "outputs": [],
   "source": [
    "# Importing standard Qiskit libraries\n",
    "from qiskit import QuantumCircuit, transpile\n",
    "from qiskit.tools.jupyter import *\n",
    "from qiskit.visualization import *\n",
    "from ibm_quantum_widgets import *\n",
    "\n",
    "# qiskit-ibmq-provider has been deprecated.\n",
    "# Please see the Migration Guides in https://ibm.biz/provider_migration_guide for more detail.\n",
    "from qiskit_ibm_runtime import QiskitRuntimeService, Sampler, Estimator, Session, Options\n",
    "\n",
    "# Loading your IBM Quantum account(s)\n",
    "service = QiskitRuntimeService(channel=\"ibm_quantum\")\n",
    "\n",
    "# Invoke a primitive. For more details see https://qiskit.org/documentation/partners/qiskit_ibm_runtime/tutorials.html\n",
    "# result = Sampler(\"ibmq_qasm_simulator\").run(circuits).result()"
   ]
  },
  {
   "cell_type": "code",
   "execution_count": 3,
   "id": "ac15bf7e-1246-45aa-af82-06775f475f01",
   "metadata": {
    "tags": []
   },
   "outputs": [],
   "source": [
    "from qiskit_nature.units import DistanceUnit\n",
    "from qiskit_nature.second_q.drivers import PySCFDriver\n",
    "from qiskit_nature.second_q.mappers import ParityMapper\n",
    "from qiskit_nature.second_q.transformers import ActiveSpaceTransformer\n",
    "from qiskit_nature.second_q.algorithms.ground_state_solvers import GroundStateEigensolver\n",
    "from qiskit_algorithms import NumPyMinimumEigensolver\n",
    "from qiskit.circuit.library import EfficientSU2\n",
    "import numpy as np\n",
    "from qiskit.utils import algorithm_globals\n",
    "from qiskit_algorithms.optimizers import SPSA\n",
    "from qiskit_algorithms import VQE\n",
    "from qiskit.primitives import Estimator\n"
   ]
  },
  {
   "cell_type": "code",
   "execution_count": 4,
   "id": "696aa339-773b-4076-a4d4-0b64268267af",
   "metadata": {
    "tags": []
   },
   "outputs": [],
   "source": [
    "global qubit_mapper\n",
    "\n",
    "def prepare_qubit_hamiltonian(molecule, bond_distance):\n",
    "    global qubit_mapper\n",
    "    # Specify driver\n",
    "    atom_string = \"; \".join([f\"{atom} {x} {y} {z}\" for atom, (x, y, z) in molecule])\n",
    "    driver = PySCFDriver(\n",
    "        atom=atom_string,\n",
    "        basis=\"sto3g\",\n",
    "        charge=0,\n",
    "        spin=0,\n",
    "        unit=DistanceUnit.ANGSTROM,\n",
    "    )\n",
    "    problem = driver.run()\n",
    "\n",
    "    # Specify active space transformation\n",
    "    active_space_trafo = ActiveSpaceTransformer(\n",
    "        num_electrons=problem.num_particles, num_spatial_orbitals=3\n",
    "    )\n",
    "\n",
    "    # Transform the electronic structure problem\n",
    "    problem = active_space_trafo.transform(problem)\n",
    "\n",
    "    # Construct the parity mapper\n",
    "    qubit_mapper = ParityMapper(problem.num_particles)\n",
    "\n",
    "    # Convert to qubit Hamiltonian\n",
    "    qubit_op = qubit_mapper.map(problem.second_q_ops()[0])\n",
    "\n",
    "    return qubit_op, problem"
   ]
  },
  {
   "cell_type": "code",
   "execution_count": 5,
   "id": "d34dc0e3-3f48-43e1-97dc-442c2394871d",
   "metadata": {
    "tags": []
   },
   "outputs": [],
   "source": [
    "def atom_input():\n",
    "    # Get user input for each atom\n",
    "    element_1 = input(\"Enter the first element (e.g., 'Li'): \")\n",
    "    element_2 = input(\"Enter the second element (e.g., 'H'): \")\n",
    "\n",
    "    # Get bond distance\n",
    "    bond_distance = float(input(\"Enter the bond distance in Angstrom (e.g., 2.5): \"))\n",
    "\n",
    "    # Create the atom string\n",
    "    atom_string = f\"{element_1} 0 0 0; {element_2} 0 0 {bond_distance}\"\n",
    "\n",
    "    return atom_string, bond_distance"
   ]
  },
  {
   "cell_type": "code",
   "execution_count": 6,
   "id": "245b704a-fc82-4e55-bdca-511f24adba9f",
   "metadata": {
    "tags": []
   },
   "outputs": [
    {
     "data": {
      "image/png": "[encoded data removed]",
      "text/plain": [
       "<Figure size 872.774x367.889 with 1 Axes>"
      ]
     },
     "execution_count": 6,
     "metadata": {},
     "output_type": "execute_result"
    }
   ],
   "source": [
    "ansatz = EfficientSU2(num_qubits=4, reps=1, entanglement=\"linear\", insert_barriers=True)\n",
    "ansatz.decompose().draw(\"mpl\", style=\"iqx\")"
   ]
  },
  {
   "cell_type": "code",
   "execution_count": 7,
   "id": "65ff2933-d747-44f2-bf7a-889d95a25652",
   "metadata": {
    "tags": []
   },
   "outputs": [
    {
     "name": "stdin",
     "output_type": "stream",
     "text": [
      "Enter the first element (e.g., 'Li'):  Li\n",
      "Enter the second element (e.g., 'H'):  H\n",
      "Enter the bond distance in Angstrom (e.g., 2.5):  2.5\n"
     ]
    }
   ],
   "source": [
    "# User inputs the atom and bond distance\n",
    "atom_string, bond_distance = atom_input()\n",
    " \n",
    "# Parse the atom string to create a molecule structure\n",
    "molecule = [(atom.split()[0], (float(atom.split()[1]), float(atom.split()[2]), float(atom.split()[3]))) for atom in atom_string.split(\"; \")]\n",
    "\n",
    "# Prepare the qubit Hamiltonian and problem\n",
    "qubit_hamiltonian, problem = prepare_qubit_hamiltonian(molecule, bond_distance)"
   ]
  },
  {
   "cell_type": "code",
   "execution_count": 8,
   "id": "93ba06e3-dd63-48e5-9316-b5cf81a2eba0",
   "metadata": {
    "tags": []
   },
   "outputs": [
    {
     "name": "stdout",
     "output_type": "stream",
     "text": [
      "Classical Solver Result: === GROUND STATE ENERGY ===\n",
      " \n",
      "* Electronic ground state energy (Hartree): -8.408630641972\n",
      "  - computed part:      -8.408630641972\n",
      "  - ActiveSpaceTransformer extracted energy part: 0.0\n",
      "~ Nuclear repulsion energy (Hartree): 0.635012653104\n",
      "> Total ground state energy (Hartree): -7.773617988868\n",
      " \n",
      "=== MEASURED OBSERVABLES ===\n",
      " \n",
      "  0:  # Particles: 4.000 S: 0.000 S^2: 0.000 M: 0.000\n",
      " \n",
      "=== DIPOLE MOMENTS ===\n",
      " \n",
      "~ Nuclear dipole moment (a.u.): [0.0  0.0  4.72431531]\n",
      " \n",
      "  0: \n",
      "  * Electronic dipole moment (a.u.): [0.0  0.0  6.450258072775]\n",
      "    - computed part:      [0.0  0.0  6.450258072775]\n",
      "    - ActiveSpaceTransformer extracted energy part: [0.0  0.0  0.0]\n",
      "  > Dipole moment (a.u.): [0.0  0.0  -1.725942762775]  Total: 1.725942762775\n",
      "                 (debye): [0.0  0.0  -4.3869085123]  Total: 4.3869085123\n",
      " \n"
     ]
    }
   ],
   "source": [
    "# Classical Solver\n",
    "np_solver = NumPyMinimumEigensolver()\n",
    "np_groundstate_solver = GroundStateEigensolver(qubit_mapper, np_solver)\n",
    "np_result = np_groundstate_solver.solve(problem)\n",
    "print(\"Classical Solver Result:\", np_result)"
   ]
  },
  {
   "cell_type": "code",
   "execution_count": 10,
   "id": "23f1cd0e-a18e-44ba-8290-3566a430be22",
   "metadata": {
    "tags": []
   },
   "outputs": [],
   "source": [
    "optimizer = SPSA(maxiter=100)\n",
    "initial_point = np.random.random(ansatz.num_parameters)"
   ]
  },
  {
   "cell_type": "code",
   "execution_count": 11,
   "id": "051fa747-d494-4084-aaf0-26cef6102e69",
   "metadata": {
    "tags": []
   },
   "outputs": [],
   "source": [
    "estimator = Estimator()\n",
    "local_vqe = VQE(\n",
    "    estimator,\n",
    "    ansatz,\n",
    "    optimizer,\n",
    "    initial_point=initial_point,\n",
    ")\n",
    "local_vqe_groundstate_solver = GroundStateEigensolver(qubit_mapper, local_vqe)\n",
    "local_vqe_result = local_vqe_groundstate_solver.solve(problem)"
   ]
  },
  {
   "cell_type": "code",
   "execution_count": 12,
   "id": "4afd01df-25ac-4e7e-ad9b-eaa23b039aa4",
   "metadata": {
    "tags": []
   },
   "outputs": [
    {
     "name": "stdout",
     "output_type": "stream",
     "text": [
      "=== GROUND STATE ENERGY ===\n",
      " \n",
      "* Electronic ground state energy (Hartree): -8.138171674883\n",
      "  - computed part:      -8.138171674883\n",
      "  - ActiveSpaceTransformer extracted energy part: 0.0\n",
      "~ Nuclear repulsion energy (Hartree): 0.635012653104\n",
      "> Total ground state energy (Hartree): -7.503159021779\n",
      " \n",
      "=== MEASURED OBSERVABLES ===\n",
      " \n",
      "  0:  # Particles: 3.998 S: 0.520 S^2: 0.790 M: 0.001\n",
      " \n",
      "=== DIPOLE MOMENTS ===\n",
      " \n",
      "~ Nuclear dipole moment (a.u.): [0.0  0.0  4.72431531]\n",
      " \n",
      "  0: \n",
      "  * Electronic dipole moment (a.u.): [0.0  0.0  0.219087575708]\n",
      "    - computed part:      [0.0  0.0  0.219087575708]\n",
      "    - ActiveSpaceTransformer extracted energy part: [0.0  0.0  0.0]\n",
      "  > Dipole moment (a.u.): [0.0  0.0  4.505227734292]  Total: 4.505227734292\n",
      "                 (debye): [0.0  0.0  11.451145613682]  Total: 11.451145613682\n",
      " \n"
     ]
    }
   ],
   "source": [
    "print(local_vqe_result)"
   ]
  },
  {
   "cell_type": "code",
   "execution_count": 13,
   "id": "74237b47-01c6-4de3-9720-b39c2c03c011",
   "metadata": {
    "tags": []
   },
   "outputs": [
    {
     "name": "stderr",
     "output_type": "stream",
     "text": [
      "/tmp/ipykernel_552/1501249856.py:3: DeprecationWarning: The qiskit.IBMQ entrypoint and the qiskit-ibmq-provider package (accessible from 'qiskit.providers.ibmq`) are deprecated and will be removed in a future release. Instead you should use the qiskit-ibm-provider package which is accessible from 'qiskit_ibm_provider'. You can install it with 'pip install qiskit_ibm_provider'. Just replace 'qiskit.IBMQ' with 'qiskit_ibm_provider.IBMProvider'\n",
      "  IBMQ.load_account()\n"
     ]
    }
   ],
   "source": [
    "from qiskit import IBMQ\n",
    "\n",
    "IBMQ.load_account()\n",
    "provider = IBMQ.get_provider(group=\"open\")  # replace by your runtime provider\n",
    "\n",
    "backend = provider.get_backend(\"ibmq_qasm_simulator\")  # select a backend that supports the runtime"
   ]
  },
  {
   "cell_type": "code",
   "execution_count": null,
   "id": "b6604811-1931-483b-86d0-8b4ef35d7906",
   "metadata": {},
   "outputs": [],
   "source": []
  }
 ],
 "metadata": {
  "kernelspec": {
   "display_name": "Python 3 (ipykernel)",
   "language": "python",
   "name": "python3"
  },
  "language_info": {
   "codemirror_mode": {
    "name": "ipython",
    "version": 3
   },
   "file_extension": ".py",
   "mimetype": "text/x-python",
   "name": "python",
   "nbconvert_exporter": "python",
   "pygments_lexer": "ipython3",
   "version": "3.10.8"
  },
  "widgets": {
   "application/vnd.jupyter.widget-state+json": {
    "state": {
     "14e29ef2d1734b8591b5f68b0fe422f4": {
      "model_module": "@jupyter-widgets/base",
      "model_module_version": "2.0.0",
      "model_name": "LayoutModel",
      "state": {
       "width": "145px"
      }
     },
     "272a2468996948b89c04f2c1ac48f961": {
      "model_module": "@jupyter-widgets/base",
      "model_module_version": "2.0.0",
      "model_name": "LayoutModel",
      "state": {}
     },
     "29e2b822366b45b4bb96e5ec29db6789": {
      "model_module": "@jupyter-widgets/controls",
      "model_module_version": "2.0.0",
      "model_name": "HTMLModel",
      "state": {
       "layout": "IPY_MODEL_f155f03a46cb4897b57e9d031e81c1f2",
       "style": "IPY_MODEL_62c5d52fe15a412a982d4d66a6f65d0d",
       "value": "<h5>Queue</h5>"
      }
     },
     "3e01ba3e8bdc4bffaed5d141f791c2f0": {
      "model_module": "@jupyter-widgets/controls",
      "model_module_version": "2.0.0",
      "model_name": "HTMLModel",
      "state": {
       "layout": "IPY_MODEL_14e29ef2d1734b8591b5f68b0fe422f4",
       "style": "IPY_MODEL_cb84c52d907443c3b97cfacf906f2b86",
       "value": "<h5>Backend</h5>"
      }
     },
     "43ce620cf8ca424ba15557dc93b7a8e3": {
      "model_module": "@jupyter-widgets/controls",
      "model_module_version": "2.0.0",
      "model_name": "HBoxModel",
      "state": {
       "children": [
        "IPY_MODEL_780067ee659949f1a54e1dbd7c0233fb",
        "IPY_MODEL_3e01ba3e8bdc4bffaed5d141f791c2f0",
        "IPY_MODEL_f554308646a340fc8c3ca2b915bacee6",
        "IPY_MODEL_29e2b822366b45b4bb96e5ec29db6789",
        "IPY_MODEL_e71130912d17496a8046776ee188183e"
       ],
       "layout": "IPY_MODEL_f8a31c62cf234569838eabb5361bfdd5"
      }
     },
     "5f1e02da2efa4adfa1071415c7da7ebb": {
      "model_module": "@jupyter-widgets/controls",
      "model_module_version": "2.0.0",
      "model_name": "HTMLModel",
      "state": {
       "layout": "IPY_MODEL_78af6448fa644ae592d70e79e93a0d54",
       "style": "IPY_MODEL_ebb5e3c5ede249e4be29a771a6a61d45",
       "value": "<p style='font-family: IBM Plex Sans, Arial, Helvetica, sans-serif; font-size: 20px; font-weight: medium;'>Circuit Properties</p>"
      }
     },
     "62c5d52fe15a412a982d4d66a6f65d0d": {
      "model_module": "@jupyter-widgets/controls",
      "model_module_version": "2.0.0",
      "model_name": "HTMLStyleModel",
      "state": {
       "description_width": "",
       "font_size": null,
       "text_color": null
      }
     },
     "701b29c5ff6e4c9d8311226d70223680": {
      "model_module": "@jupyter-widgets/controls",
      "model_module_version": "2.0.0",
      "model_name": "HTMLStyleModel",
      "state": {
       "description_width": "",
       "font_size": null,
       "text_color": null
      }
     },
     "780067ee659949f1a54e1dbd7c0233fb": {
      "model_module": "@jupyter-widgets/controls",
      "model_module_version": "2.0.0",
      "model_name": "HTMLModel",
      "state": {
       "layout": "IPY_MODEL_87b44b552cd54b478d1e44787290a4e3",
       "style": "IPY_MODEL_701b29c5ff6e4c9d8311226d70223680",
       "value": "<h5>Job ID</h5>"
      }
     },
     "78af6448fa644ae592d70e79e93a0d54": {
      "model_module": "@jupyter-widgets/base",
      "model_module_version": "2.0.0",
      "model_name": "LayoutModel",
      "state": {
       "margin": "0px 0px 10px 0px"
      }
     },
     "85f46e2af6144b60ba9503cd97ef8fd6": {
      "model_module": "@jupyter-widgets/base",
      "model_module_version": "2.0.0",
      "model_name": "LayoutModel",
      "state": {
       "grid_template_areas": "\n                                       \". . . . right \"\n                                        ",
       "grid_template_columns": "20% 20% 20% 20% 20%",
       "width": "100%"
      }
     },
     "87b44b552cd54b478d1e44787290a4e3": {
      "model_module": "@jupyter-widgets/base",
      "model_module_version": "2.0.0",
      "model_name": "LayoutModel",
      "state": {
       "width": "190px"
      }
     },
     "a2fe4ae344d14e8c9c2c59b2e7696e1d": {
      "model_module": "@jupyter-widgets/base",
      "model_module_version": "2.0.0",
      "model_name": "LayoutModel",
      "state": {
       "grid_area": "right",
       "padding": "0px 0px 0px 0px",
       "width": "70px"
      }
     },
     "b7b414a273a34dd4aeab32b4fc96e965": {
      "model_module": "@jupyter-widgets/base",
      "model_module_version": "2.0.0",
      "model_name": "LayoutModel",
      "state": {
       "width": "95px"
      }
     },
     "c20f152a7b8f48da8b7dffbe15591ea1": {
      "model_module": "@jupyter-widgets/controls",
      "model_module_version": "2.0.0",
      "model_name": "ButtonStyleModel",
      "state": {
       "font_family": null,
       "font_size": null,
       "font_style": null,
       "font_variant": null,
       "font_weight": null,
       "text_color": null,
       "text_decoration": null
      }
     },
     "c98a11677e824579b630bd1d1b307348": {
      "model_module": "@jupyter-widgets/controls",
      "model_module_version": "2.0.0",
      "model_name": "HTMLStyleModel",
      "state": {
       "description_width": "",
       "font_size": null,
       "text_color": null
      }
     },
     "cb84c52d907443c3b97cfacf906f2b86": {
      "model_module": "@jupyter-widgets/controls",
      "model_module_version": "2.0.0",
      "model_name": "HTMLStyleModel",
      "state": {
       "description_width": "",
       "font_size": null,
       "text_color": null
      }
     },
     "e56b664b70a24484a3f8623f3fd133c3": {
      "model_module": "@jupyter-widgets/controls",
      "model_module_version": "2.0.0",
      "model_name": "ButtonModel",
      "state": {
       "button_style": "primary",
       "description": "Clear",
       "layout": "IPY_MODEL_a2fe4ae344d14e8c9c2c59b2e7696e1d",
       "style": "IPY_MODEL_c20f152a7b8f48da8b7dffbe15591ea1",
       "tooltip": null
      }
     },
     "e71130912d17496a8046776ee188183e": {
      "model_module": "@jupyter-widgets/controls",
      "model_module_version": "2.0.0",
      "model_name": "HTMLModel",
      "state": {
       "layout": "IPY_MODEL_272a2468996948b89c04f2c1ac48f961",
       "style": "IPY_MODEL_c98a11677e824579b630bd1d1b307348",
       "value": "<h5>Message</h5>"
      }
     },
     "e932aaaa6c6c40138bb4200113fcc518": {
      "model_module": "@jupyter-widgets/controls",
      "model_module_version": "2.0.0",
      "model_name": "GridBoxModel",
      "state": {
       "children": [
        "IPY_MODEL_e56b664b70a24484a3f8623f3fd133c3"
       ],
       "layout": "IPY_MODEL_85f46e2af6144b60ba9503cd97ef8fd6"
      }
     },
     "ebb5e3c5ede249e4be29a771a6a61d45": {
      "model_module": "@jupyter-widgets/controls",
      "model_module_version": "2.0.0",
      "model_name": "HTMLStyleModel",
      "state": {
       "description_width": "",
       "font_size": null,
       "text_color": null
      }
     },
     "f155f03a46cb4897b57e9d031e81c1f2": {
      "model_module": "@jupyter-widgets/base",
      "model_module_version": "2.0.0",
      "model_name": "LayoutModel",
      "state": {
       "width": "70px"
      }
     },
     "f3710344a7754bfebdb7bed7232dd3dc": {
      "model_module": "@jupyter-widgets/controls",
      "model_module_version": "2.0.0",
      "model_name": "HTMLStyleModel",
      "state": {
       "description_width": "",
       "font_size": null,
       "text_color": null
      }
     },
     "f554308646a340fc8c3ca2b915bacee6": {
      "model_module": "@jupyter-widgets/controls",
      "model_module_version": "2.0.0",
      "model_name": "HTMLModel",
      "state": {
       "layout": "IPY_MODEL_b7b414a273a34dd4aeab32b4fc96e965",
       "style": "IPY_MODEL_f3710344a7754bfebdb7bed7232dd3dc",
       "value": "<h5>Status</h5>"
      }
     },
     "f8a31c62cf234569838eabb5361bfdd5": {
      "model_module": "@jupyter-widgets/base",
      "model_module_version": "2.0.0",
      "model_name": "LayoutModel",
      "state": {
       "margin": "0px 0px 0px 37px",
       "width": "600px"
      }
     }
    },
    "version_major": 2,
    "version_minor": 0
   }
  }
 },
 "nbformat": 4,
 "nbformat_minor": 5
}
